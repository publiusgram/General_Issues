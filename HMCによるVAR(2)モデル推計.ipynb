{
 "cells": [
  {
   "cell_type": "markdown",
   "id": "fdeaa285",
   "metadata": {},
   "source": [
    "# HMCによるVAR(2)モデルの推計"
   ]
  },
  {
   "cell_type": "code",
   "execution_count": 1,
   "id": "sweet-kinase",
   "metadata": {},
   "outputs": [],
   "source": [
    "import sys\n",
    "\n",
    "import math\n",
    "\n",
    "from autograd import grad\n",
    "import autograd.numpy as np\n",
    "import scipy.stats as st\n",
    "\n",
    "import pandas as pd\n",
    "\n",
    "import statsmodels.api as sm\n",
    "from statsmodels.tsa.api import VAR\n",
    "\n",
    "import matplotlib as mpl\n",
    "import matplotlib.pyplot as plt"
   ]
  },
  {
   "cell_type": "code",
   "execution_count": 2,
   "id": "automatic-carnival",
   "metadata": {},
   "outputs": [],
   "source": [
    "from fredapi import Fred\n",
    "fred = Fred(api_key='efedf207a63071188c699caf884a4ee9')"
   ]
  },
  {
   "cell_type": "code",
   "execution_count": 3,
   "id": "junior-cathedral",
   "metadata": {},
   "outputs": [],
   "source": [
    "#data = fred.get_series('CPIAUCSL').resample('Q').mean()\n",
    "data_name = ['GDPC1','PCECTPI']\n",
    "df = pd.DataFrame()\n",
    "for s in data_name:\n",
    "    df = pd.concat([df,fred.get_series(s)],axis=1)\n",
    "df = pd.DataFrame(np.log(df.values),index=list(df.index))      #対数化\n",
    "df = df.diff().dropna(how='any',axis=0)                        #前期差\n",
    "cc = pd.DataFrame(np.ones(df.shape[0]),index=list(df.index))\n",
    "df = pd.concat([df,df.shift(),df.shift(2),cc],axis=1)\n",
    "df = df.dropna(how='any',axis=0)\n",
    "df.columns = ['y','p','y1','p1','y2','p2','c']"
   ]
  },
  {
   "cell_type": "code",
   "execution_count": 4,
   "id": "0cccf323",
   "metadata": {},
   "outputs": [],
   "source": [
    "Y = df.loc[:,['y','p']]\n",
    "X = df.loc[:,['y1','p1','y2','p2','c']]"
   ]
  },
  {
   "cell_type": "code",
   "execution_count": 5,
   "id": "231e2440",
   "metadata": {},
   "outputs": [
    {
     "data": {
      "text/html": [
       "<div>\n",
       "<style scoped>\n",
       "    .dataframe tbody tr th:only-of-type {\n",
       "        vertical-align: middle;\n",
       "    }\n",
       "\n",
       "    .dataframe tbody tr th {\n",
       "        vertical-align: top;\n",
       "    }\n",
       "\n",
       "    .dataframe thead th {\n",
       "        text-align: right;\n",
       "    }\n",
       "</style>\n",
       "<table border=\"1\" class=\"dataframe\">\n",
       "  <thead>\n",
       "    <tr style=\"text-align: right;\">\n",
       "      <th></th>\n",
       "      <th>y</th>\n",
       "      <th>p</th>\n",
       "    </tr>\n",
       "  </thead>\n",
       "  <tbody>\n",
       "    <tr>\n",
       "      <th>1947-10-01</th>\n",
       "      <td>0.015521</td>\n",
       "      <td>0.024580</td>\n",
       "    </tr>\n",
       "    <tr>\n",
       "      <th>1948-01-01</th>\n",
       "      <td>0.014931</td>\n",
       "      <td>0.011032</td>\n",
       "    </tr>\n",
       "    <tr>\n",
       "      <th>1948-04-01</th>\n",
       "      <td>0.016372</td>\n",
       "      <td>0.010304</td>\n",
       "    </tr>\n",
       "    <tr>\n",
       "      <th>1948-07-01</th>\n",
       "      <td>0.005713</td>\n",
       "      <td>0.015148</td>\n",
       "    </tr>\n",
       "    <tr>\n",
       "      <th>1948-10-01</th>\n",
       "      <td>0.001117</td>\n",
       "      <td>-0.003146</td>\n",
       "    </tr>\n",
       "    <tr>\n",
       "      <th>...</th>\n",
       "      <td>...</td>\n",
       "      <td>...</td>\n",
       "    </tr>\n",
       "    <tr>\n",
       "      <th>2020-01-01</th>\n",
       "      <td>-0.012707</td>\n",
       "      <td>0.003189</td>\n",
       "    </tr>\n",
       "    <tr>\n",
       "      <th>2020-04-01</th>\n",
       "      <td>-0.094158</td>\n",
       "      <td>-0.004039</td>\n",
       "    </tr>\n",
       "    <tr>\n",
       "      <th>2020-07-01</th>\n",
       "      <td>0.072123</td>\n",
       "      <td>0.008978</td>\n",
       "    </tr>\n",
       "    <tr>\n",
       "      <th>2020-10-01</th>\n",
       "      <td>0.010586</td>\n",
       "      <td>0.003619</td>\n",
       "    </tr>\n",
       "    <tr>\n",
       "      <th>2021-01-01</th>\n",
       "      <td>0.015503</td>\n",
       "      <td>0.009159</td>\n",
       "    </tr>\n",
       "  </tbody>\n",
       "</table>\n",
       "<p>294 rows × 2 columns</p>\n",
       "</div>"
      ],
      "text/plain": [
       "                   y         p\n",
       "1947-10-01  0.015521  0.024580\n",
       "1948-01-01  0.014931  0.011032\n",
       "1948-04-01  0.016372  0.010304\n",
       "1948-07-01  0.005713  0.015148\n",
       "1948-10-01  0.001117 -0.003146\n",
       "...              ...       ...\n",
       "2020-01-01 -0.012707  0.003189\n",
       "2020-04-01 -0.094158 -0.004039\n",
       "2020-07-01  0.072123  0.008978\n",
       "2020-10-01  0.010586  0.003619\n",
       "2021-01-01  0.015503  0.009159\n",
       "\n",
       "[294 rows x 2 columns]"
      ]
     },
     "execution_count": 5,
     "metadata": {},
     "output_type": "execute_result"
    }
   ],
   "source": [
    "Y"
   ]
  },
  {
   "cell_type": "code",
   "execution_count": 6,
   "id": "fa466c6d",
   "metadata": {},
   "outputs": [
    {
     "data": {
      "text/html": [
       "<div>\n",
       "<style scoped>\n",
       "    .dataframe tbody tr th:only-of-type {\n",
       "        vertical-align: middle;\n",
       "    }\n",
       "\n",
       "    .dataframe tbody tr th {\n",
       "        vertical-align: top;\n",
       "    }\n",
       "\n",
       "    .dataframe thead th {\n",
       "        text-align: right;\n",
       "    }\n",
       "</style>\n",
       "<table border=\"1\" class=\"dataframe\">\n",
       "  <thead>\n",
       "    <tr style=\"text-align: right;\">\n",
       "      <th></th>\n",
       "      <th>y1</th>\n",
       "      <th>p1</th>\n",
       "      <th>y2</th>\n",
       "      <th>p2</th>\n",
       "      <th>c</th>\n",
       "    </tr>\n",
       "  </thead>\n",
       "  <tbody>\n",
       "    <tr>\n",
       "      <th>1947-10-01</th>\n",
       "      <td>-0.002067</td>\n",
       "      <td>0.018455</td>\n",
       "      <td>-0.002670</td>\n",
       "      <td>0.007968</td>\n",
       "      <td>1.0</td>\n",
       "    </tr>\n",
       "    <tr>\n",
       "      <th>1948-01-01</th>\n",
       "      <td>0.015521</td>\n",
       "      <td>0.024580</td>\n",
       "      <td>-0.002067</td>\n",
       "      <td>0.018455</td>\n",
       "      <td>1.0</td>\n",
       "    </tr>\n",
       "    <tr>\n",
       "      <th>1948-04-01</th>\n",
       "      <td>0.014931</td>\n",
       "      <td>0.011032</td>\n",
       "      <td>0.015521</td>\n",
       "      <td>0.024580</td>\n",
       "      <td>1.0</td>\n",
       "    </tr>\n",
       "    <tr>\n",
       "      <th>1948-07-01</th>\n",
       "      <td>0.016372</td>\n",
       "      <td>0.010304</td>\n",
       "      <td>0.014931</td>\n",
       "      <td>0.011032</td>\n",
       "      <td>1.0</td>\n",
       "    </tr>\n",
       "    <tr>\n",
       "      <th>1948-10-01</th>\n",
       "      <td>0.005713</td>\n",
       "      <td>0.015148</td>\n",
       "      <td>0.016372</td>\n",
       "      <td>0.010304</td>\n",
       "      <td>1.0</td>\n",
       "    </tr>\n",
       "    <tr>\n",
       "      <th>...</th>\n",
       "      <td>...</td>\n",
       "      <td>...</td>\n",
       "      <td>...</td>\n",
       "      <td>...</td>\n",
       "      <td>...</td>\n",
       "    </tr>\n",
       "    <tr>\n",
       "      <th>2020-01-01</th>\n",
       "      <td>0.005845</td>\n",
       "      <td>0.003816</td>\n",
       "      <td>0.006349</td>\n",
       "      <td>0.003475</td>\n",
       "      <td>1.0</td>\n",
       "    </tr>\n",
       "    <tr>\n",
       "      <th>2020-04-01</th>\n",
       "      <td>-0.012707</td>\n",
       "      <td>0.003189</td>\n",
       "      <td>0.005845</td>\n",
       "      <td>0.003816</td>\n",
       "      <td>1.0</td>\n",
       "    </tr>\n",
       "    <tr>\n",
       "      <th>2020-07-01</th>\n",
       "      <td>-0.094158</td>\n",
       "      <td>-0.004039</td>\n",
       "      <td>-0.012707</td>\n",
       "      <td>0.003189</td>\n",
       "      <td>1.0</td>\n",
       "    </tr>\n",
       "    <tr>\n",
       "      <th>2020-10-01</th>\n",
       "      <td>0.072123</td>\n",
       "      <td>0.008978</td>\n",
       "      <td>-0.094158</td>\n",
       "      <td>-0.004039</td>\n",
       "      <td>1.0</td>\n",
       "    </tr>\n",
       "    <tr>\n",
       "      <th>2021-01-01</th>\n",
       "      <td>0.010586</td>\n",
       "      <td>0.003619</td>\n",
       "      <td>0.072123</td>\n",
       "      <td>0.008978</td>\n",
       "      <td>1.0</td>\n",
       "    </tr>\n",
       "  </tbody>\n",
       "</table>\n",
       "<p>294 rows × 5 columns</p>\n",
       "</div>"
      ],
      "text/plain": [
       "                  y1        p1        y2        p2    c\n",
       "1947-10-01 -0.002067  0.018455 -0.002670  0.007968  1.0\n",
       "1948-01-01  0.015521  0.024580 -0.002067  0.018455  1.0\n",
       "1948-04-01  0.014931  0.011032  0.015521  0.024580  1.0\n",
       "1948-07-01  0.016372  0.010304  0.014931  0.011032  1.0\n",
       "1948-10-01  0.005713  0.015148  0.016372  0.010304  1.0\n",
       "...              ...       ...       ...       ...  ...\n",
       "2020-01-01  0.005845  0.003816  0.006349  0.003475  1.0\n",
       "2020-04-01 -0.012707  0.003189  0.005845  0.003816  1.0\n",
       "2020-07-01 -0.094158 -0.004039 -0.012707  0.003189  1.0\n",
       "2020-10-01  0.072123  0.008978 -0.094158 -0.004039  1.0\n",
       "2021-01-01  0.010586  0.003619  0.072123  0.008978  1.0\n",
       "\n",
       "[294 rows x 5 columns]"
      ]
     },
     "execution_count": 6,
     "metadata": {},
     "output_type": "execute_result"
    }
   ],
   "source": [
    "X"
   ]
  },
  {
   "cell_type": "code",
   "execution_count": 7,
   "id": "c7d0fc06",
   "metadata": {},
   "outputs": [],
   "source": [
    "idx = pd.period_range(start=pd.Period('1947Q4', freq='Q'),\n",
    "                      end=pd.Period('2021Q1', freq='Q'),\n",
    "                      freq='Q')"
   ]
  },
  {
   "cell_type": "code",
   "execution_count": 8,
   "id": "bc6764c2",
   "metadata": {},
   "outputs": [
    {
     "data": {
      "text/plain": [
       "<AxesSubplot:>"
      ]
     },
     "execution_count": 8,
     "metadata": {},
     "output_type": "execute_result"
    },
    {
     "data": {
      "image/png": "[encoded data removed]",
      "text/plain": [
       "<Figure size 432x288 with 1 Axes>"
      ]
     },
     "metadata": {
      "needs_background": "light"
     },
     "output_type": "display_data"
    }
   ],
   "source": [
    "Y.index =idx\n",
    "Y.loc['2000':].plot()"
   ]
  },
  {
   "cell_type": "code",
   "execution_count": 9,
   "id": "c4c54953",
   "metadata": {},
   "outputs": [],
   "source": [
    "def forecast_(N,Y,B,sigma2,k):\n",
    "    yhat = np.zeros((N))\n",
    "    yhat[0] = Y[-2]\n",
    "    yhat[1] = Y[-1]\n",
    "    cfactor = np.sqrt(sigma2)\n",
    "    for i in range(2,N):\n",
    "        yhat[i] = np.array([1,yhat[i-1],yhat[i-2]])@B + np.random.randn(1)*cfactor\n",
    "        \n",
    "    yhat = pd.DataFrame(yhat,columns=[str(k)])\n",
    "\n",
    "    return yhat"
   ]
  },
  {
   "cell_type": "code",
   "execution_count": 10,
   "id": "5707ca95",
   "metadata": {},
   "outputs": [],
   "source": [
    "def leapfrog(q, p, dVdq, path_len, step_size):\n",
    "    \"\"\"Leapfrog integrator for Hamiltonian Monte Carlo.\n",
    "\n",
    "    Parameters\n",
    "    ----------\n",
    "    q : np.floatX\n",
    "        Initial position\n",
    "    p : np.floatX\n",
    "        Initial momentum\n",
    "    dVdq : callable\n",
    "        Gradient of the velocity\n",
    "    path_len : float\n",
    "        How long to integrate for\n",
    "    step_size : float\n",
    "        How long each integration step should be\n",
    "\n",
    "    Returns\n",
    "    -------\n",
    "    q, p : np.floatX, np.floatX\n",
    "        New position and momentum\n",
    "    \"\"\"\n",
    "    q, p = np.copy(q), np.copy(p)\n",
    "\n",
    "    for _ in range(path_len):\n",
    "        #print(dVdq(q))\n",
    "        #sys.exit()\n",
    "        p -= step_size/2 * dVdq(q)      # half step    (5.31)\n",
    "        q += step_size * p              # whole step   (5.32)\n",
    "        p -= step_size/2 * dVdq(q)      # half step   (5.33)\n",
    "        #print(q)\n",
    "\n",
    "    #sys.exit()\n",
    "    # momentum flip at end\n",
    "    return q, -p"
   ]
  },
  {
   "cell_type": "code",
   "execution_count": 11,
   "id": "8c74dfb5",
   "metadata": {},
   "outputs": [],
   "source": [
    "def hamiltonian_monte_carlo(n_samples, dVdq,initial_position, path_len=1, step_size=0.5):#negative_log_prob\n",
    "    \"\"\"Run Hamiltonian Monte Carlo sampling.\n",
    "\n",
    "    Parameters\n",
    "    ----------\n",
    "    n_samples : int\n",
    "        Number of samples to return\n",
    "    negative_log_prob : callable\n",
    "        The negative log probability to sample from\n",
    "    initial_position : np.array\n",
    "        A place to start sampling from.\n",
    "    path_len : float\n",
    "        How long each integration path is. Smaller is faster and more correlated.\n",
    "    step_size : float\n",
    "        How long each integration step is. Smaller is slower and more accurate.\n",
    "\n",
    "    Returns\n",
    "    -------\n",
    "    np.array\n",
    "        Array of length `n_samples`.\n",
    "    \"\"\"    \n",
    "    # autograd magic\n",
    "    #dVdq = grad(negative_log_prob)\n",
    "\n",
    "    # collect all our samples in a list\n",
    "    samples = [initial_position]\n",
    "    #print('initial position\\n', samples)\n",
    "\n",
    "    # acceptance\n",
    "    acceptance = 0.0\n",
    "    \n",
    "    # Keep a single object for momentum resampling\n",
    "    momentum = st.norm(0, 1)\n",
    "\n",
    "    # If initial_position is a 10d vector and n_samples is 100, we want 100 x 10 momentum draws\n",
    "    # we can do this in one call to np.random.normal, and iterate over rows\n",
    "    size = (n_samples,) + initial_position.shape[:1] #tuple (n,d)\n",
    "    for p0 in momentum.rvs(size=size): # 疑似乱数をパラメーター数＊サンプル期間だけ一気に生成\n",
    "        # Integrate over our path to get a new position and momentum\n",
    "\n",
    "        q_new, p_new = leapfrog(\n",
    "            samples[-1],\n",
    "            p0,\n",
    "            dVdq,\n",
    "            path_len=path_len,\n",
    "            step_size=step_size,\n",
    "        )\n",
    "        \n",
    "        # Check Metropolis acceptance criterion\n",
    "        start_log_p = negative_log_prob(samples[-1]) - np.sum(momentum.logpdf(p0))\n",
    "        new_log_p = negative_log_prob(q_new) - np.sum(momentum.logpdf(p_new))\n",
    "        \n",
    "        #print(start_log_p,'\\n\\n',new_log_p)\n",
    "        #sys.exit()\n",
    "        if np.log(np.random.rand()) < start_log_p - new_log_p:\n",
    "            samples.append(q_new)\n",
    "            acceptance +=1.0\n",
    "        else:\n",
    "            samples.append(samples[-1])\n",
    "\n",
    "    return samples,acceptance/n_samples"
   ]
  },
  {
   "cell_type": "code",
   "execution_count": 12,
   "id": "aa1124ed",
   "metadata": {},
   "outputs": [],
   "source": [
    "def neg_log_mvnormal(mu, sigma):\n",
    "    \"\"\"Use a Cholesky decomposition for more careful work.\"\"\"\n",
    "\n",
    "    def logp(mu,sigma):\n",
    "        k = mu.shape[0]\n",
    "        return (\n",
    "            k * np.log(2 * np.pi)\n",
    "            + np.log(np.linalg.det(sigma))\n",
    "            + (mu@np.linalg.inv(sigma)@mu.T).sum()\n",
    "        ) * 0.5\n",
    "\n",
    "    return logp"
   ]
  },
  {
   "cell_type": "markdown",
   "id": "9d2c2e39",
   "metadata": {},
   "source": [
    "# ベクトル化\n",
    "\n",
    "$$\n",
    "\\boldsymbol{Y}_{t} = c + \\boldsymbol{B}_{1}\\boldsymbol{Y}_{t-1} + \\boldsymbol{B}_{2}\\boldsymbol{Y}_{t-2} + \\cdots + \\boldsymbol{B}_{p}\\boldsymbol{Y}_{t-p} + v_{t}\n",
    "$$\n",
    "<br>\n",
    "<br>\n",
    "$$\n",
    "\\boldsymbol{Y}_{t} = \\boldsymbol{X}_{t}\\boldsymbol{B} + v_{t}\n",
    "$$\n",
    "$$ with \\quad \\boldsymbol{X}_{t} = \\left( c_{it},Y_{it-1},Y_{it-2},\\cdots,Y_{it-p} \\right)$$\n",
    "<br>\n",
    "<br>\n",
    "$$\n",
    "\\boldsymbol{y} = \\left( \\boldsymbol{I}_N \\, \\otimes \\, \\boldsymbol{X} \\right) \\boldsymbol{b} + \\boldsymbol{V}\n",
    "$$\n",
    "$$ where \\quad \\boldsymbol{y} = vec(Y_t), \\, \\boldsymbol{b} = vec(\\boldsymbol{B}), and \\,  \\boldsymbol{V} = vec(v_t)$$"
   ]
  },
  {
   "cell_type": "markdown",
   "id": "481e9fa4",
   "metadata": {},
   "source": [
    "# QRリパラメタライゼーション\n",
    "\n",
    "$\\boldsymbol{A} =  \\left( \\boldsymbol{I}_N \\, \\otimes \\, \\boldsymbol{X} \\right)$として、$\\boldsymbol{A}$を$reduced-QR$分解する<br>\n",
    "<br>\n",
    "$$\n",
    "\\boldsymbol{A} = \\boldsymbol{Q} \\boldsymbol{R}\n",
    "$$\n",
    "$$\n",
    "\\boldsymbol{y} = \\boldsymbol{Q} \\boldsymbol{R} \\boldsymbol{b} + \\boldsymbol{V}\n",
    "$$\n",
    "$\\boldsymbol{\\lambda} = \\boldsymbol{R} \\boldsymbol{b}$とおくと（リパラメタライゼーション）<br>\n",
    "$$\n",
    "\\boldsymbol{y} = \\boldsymbol{Q} \\boldsymbol{\\lambda} + \\boldsymbol{V}\n",
    "$$"
   ]
  },
  {
   "cell_type": "code",
   "execution_count": 13,
   "id": "91e33751",
   "metadata": {},
   "outputs": [],
   "source": [
    "xlist = ['y1','p1','y2','p2','c']\n",
    "ylist = ['y','p']\n",
    "nn = Y.shape[1]\n",
    "\n",
    "X0 = X.loc[:,xlist].values #縦がN、横がK\n",
    "XN = (np.kron(np.diag([1]*nn),X0))\n",
    "Q,R = np.linalg.qr(XN,mode='reduced')\n",
    "y0 = Y.loc[:,ylist].values.reshape(-1)"
   ]
  },
  {
   "cell_type": "code",
   "execution_count": 14,
   "id": "04476696",
   "metadata": {},
   "outputs": [
    {
     "name": "stdout",
     "output_type": "stream",
     "text": [
      "Y (294, 2)\n",
      "X0 (294, 5)\n",
      "XN (588, 10)\n",
      "Q (588, 10)\n",
      "R (10, 10)\n",
      "y0 (588,)\n"
     ]
    }
   ],
   "source": [
    "print('Y',Y.shape)\n",
    "print('X0',X0.shape)\n",
    "print('XN',XN.shape)\n",
    "print('Q',Q.shape)\n",
    "print('R',R.shape)\n",
    "print('y0',y0.shape)"
   ]
  },
  {
   "cell_type": "code",
   "execution_count": 15,
   "id": "c30d7668",
   "metadata": {},
   "outputs": [
    {
     "name": "stdout",
     "output_type": "stream",
     "text": [
      "2 2 2 10 12\n"
     ]
    }
   ],
   "source": [
    "n = y0.shape[0]\n",
    "n_vars = len(ylist)\n",
    "n_lags = int((len(xlist)-1)/ n_vars)\n",
    "n_coefs = n_vars * (n_lags*n_vars + 1)\n",
    "n_params = n_coefs + n_vars # 誤差項間の相関ゼロ\n",
    "\n",
    "print(nn,n_vars,n_lags,n_coefs,n_params)"
   ]
  },
  {
   "cell_type": "markdown",
   "id": "115ecf05",
   "metadata": {},
   "source": [
    "# 対数尤度関数\n",
    "\n",
    "$$\n",
    "\\log f(\\boldsymbol{y}|\\boldsymbol{\\lambda},\\sigma^{2}_{\\epsilon}) \\, \\varpropto \\, - n\\log\\sigma_{\\epsilon} - \\frac{1}{2\\sigma^{2}_{\\epsilon}}(\\boldsymbol{y}-Q\\boldsymbol{\\lambda})^T(\\boldsymbol{y}-Q\\boldsymbol{\\lambda})\n",
    "$$"
   ]
  },
  {
   "cell_type": "markdown",
   "id": "eca9ef98",
   "metadata": {},
   "source": [
    "# Qの事前分布\n",
    "$$\n",
    "f(\\boldsymbol{Q}|\\sigma^{2}_{Q}) \\, \\varpropto \\, \\exp \\left( - \\frac{\\boldsymbol{Q}^T\\boldsymbol{Q}}{2\\sigma^{2}_{Q}} \\right)\n",
    "$$\n",
    "<br>\n",
    "ただし、$\\boldsymbol{Q}$は多変量正規分布に従い、分散行列は$\\sigma^{2}_{Q}\\boldsymbol{I}$とする。$\\sigma^{2}_{Q}$はハイパーパラメーター"
   ]
  },
  {
   "cell_type": "markdown",
   "id": "b8f1a074",
   "metadata": {},
   "source": [
    "# $\\sigma^{2}_{\\epsilon}$の事前分布\n",
    "$$\n",
    "f(\\sigma^{2}_{\\epsilon}|a,b) = \\frac{b^a}{\\Gamma(a)}(\\sigma^{2}_{\\epsilon})^{-a-1} \\exp \\left( -\\frac{b}{\\sigma^{2}_{\\epsilon}} \\right)\n",
    "$$\n",
    "<br>\n",
    "ただし、$\\sigma^{2}_{\\epsilon}$は逆ガンマ分布に従い、$a,b$はハイパーパラメーター"
   ]
  },
  {
   "cell_type": "markdown",
   "id": "7c3a8660",
   "metadata": {},
   "source": [
    "ここで、$\\sigma^{2}_{\\epsilon}$は$(0,\\infty)$. これに対してHMCで用いるパラメーター$\\theta$の存在領域は、$\\theta \\in \\mathbb{R}$. そこで対数をとる.<br>\n",
    "<br>\n",
    "$$\n",
    "\\gamma = \\log \\sigma^{2}_{\\epsilon} \\quad \\to \\quad \\sigma^{2}_{\\epsilon}=e^{\\gamma}\n",
    "$$\n",
    "<br>\n",
    "$$\n",
    "f(\\gamma|a,b) = \\frac{b^a}{\\Gamma(a)} \\exp \\left( - a\\gamma - \\frac{b}{e^{\\gamma}} \\right)\n",
    "$$\n",
    "<br>\n",
    "$$\n",
    "\\log{f(\\gamma|a,b)} \\, \\varpropto \\, - a\\gamma - be^{-\\gamma}\n",
    "$$"
   ]
  },
  {
   "cell_type": "markdown",
   "id": "8fb45796",
   "metadata": {},
   "source": [
    "# 対数事後分布\n",
    "$$\n",
    "\\log{f(\\boldsymbol{\\lambda},\\gamma|\\boldsymbol{y},\\boldsymbol{Q},\\sigma^{2}_{Q},a,b)} \\, \\varpropto \\, -\\left( \\frac{n}{2} + a \\right)\\gamma - \\frac{e^{-\\gamma}}{2} (\\boldsymbol{y}-Q\\boldsymbol{\\lambda})^T(\\boldsymbol{y}-Q\\boldsymbol{\\lambda}) - \\frac{\\boldsymbol{Q}^T\\boldsymbol{Q}}{2\\sigma^{2}_{Q}} - be^{-\\gamma}\n",
    "$$"
   ]
  },
  {
   "cell_type": "markdown",
   "id": "f875b46b",
   "metadata": {},
   "source": [
    "# ハミルトニアン\n",
    "$$\n",
    "H(\\boldsymbol{\\theta},\\boldsymbol{p})=H(\\boldsymbol{\\lambda},\\gamma,\\boldsymbol{p}) \\, \\varpropto \\, \\log{f(\\boldsymbol{\\lambda},\\gamma|\\boldsymbol{y},\\boldsymbol{Q},\\sigma^{2}_{Q},a,b)} + \\frac{1}{2}\\boldsymbol{p}^T \\boldsymbol{M} \\boldsymbol{p}\n",
    "$$"
   ]
  },
  {
   "cell_type": "markdown",
   "id": "8998dd42",
   "metadata": {},
   "source": [
    "# $\\lambda$による偏微分$\\nabla_{\\lambda}$\n",
    "$$\n",
    "\\nabla_{\\lambda} \\, \\varpropto \\, e^{-\\gamma}\\boldsymbol{Q}^T(\\boldsymbol{y}-\\boldsymbol{Q}\\boldsymbol{\\lambda})- \\frac{1}{\\sigma^{2}_{Q}}\\boldsymbol{\\lambda}\n",
    "$$"
   ]
  },
  {
   "cell_type": "markdown",
   "id": "bdd7cf16",
   "metadata": {},
   "source": [
    "# $\\gamma$による偏微分$\\nabla_{\\gamma}$\n",
    "$$\n",
    "\\nabla_{\\gamma} \\, \\varpropto \\, -\\left( \\frac{n}{2}+a \\right) + \\frac{e^{-\\gamma}}{2}(\\boldsymbol{y}-\\boldsymbol{Q}\\boldsymbol{\\lambda})^T(\\boldsymbol{y}-\\boldsymbol{Q}\\boldsymbol{\\lambda}) + be^{-\\gamma}\n",
    "$$"
   ]
  },
  {
   "cell_type": "code",
   "execution_count": 16,
   "id": "850b0e1b",
   "metadata": {},
   "outputs": [],
   "source": [
    "def dVdq(q):\n",
    "    lambda0 = q[:-1]#.reshape(10,1)\n",
    "    gamma0 = q[-1]\n",
    "    \n",
    "    #ee = (y0-Q@lambda0).reshape(n,1)\n",
    "    \n",
    "    nabla_lambda = (math.exp(-gamma0)*(Q.T@(y0-Q@lambda0))-1/sig2q*lambda0)*(-1)\n",
    "    \n",
    "    nabla_gamma = (-(n/2 + a) + math.exp(-gamma0)/2*((y0-Q@lambda0).T@(y0-Q@lambda0)) + b*math.exp(-gamma0))*(-1)\n",
    "    \n",
    "    return np.hstack([nabla_lambda,nabla_gamma])"
   ]
  },
  {
   "cell_type": "markdown",
   "id": "716e22ca",
   "metadata": {},
   "source": [
    "# 対数事後分布（再掲）\n",
    "$$\n",
    "\\log{f(\\boldsymbol{\\lambda},\\gamma|\\boldsymbol{y},\\boldsymbol{Q},\\sigma^{2}_{Q},a,b)} \\, \\varpropto \\, -\\left( \\frac{n}{2} + a \\right)\\gamma - \\frac{e^{-\\gamma}}{2} (\\boldsymbol{y}-Q\\boldsymbol{\\lambda})^T(\\boldsymbol{y}-Q\\boldsymbol{\\lambda}) - \\frac{\\boldsymbol{Q}^T\\boldsymbol{Q}}{2\\sigma^{2}_{Q}} - be^{-\\gamma}\n",
    "$$"
   ]
  },
  {
   "cell_type": "code",
   "execution_count": 17,
   "id": "cdbc83de",
   "metadata": {},
   "outputs": [],
   "source": [
    "def negative_log_prob(q):\n",
    "    lambda0 = q[:-1]#.reshape(10,1)\n",
    "    gamma0 = q[-1]\n",
    "    \n",
    "    ee = (y0-Q@lambda0).reshape(n,1)\n",
    "\n",
    "    return (-1)*(-(n/2 + a)*gamma0 - math.exp(-gamma0)/2*(ee.T@ee) - (lambda0.T@lambda0)/2/sig2q - b*math.exp(-gamma0))"
   ]
  },
  {
   "cell_type": "code",
   "execution_count": 18,
   "id": "8a110fe6",
   "metadata": {},
   "outputs": [],
   "source": [
    "sig2q = 1e3\n",
    "a = 1e-4\n",
    "b = 1e-4"
   ]
  },
  {
   "cell_type": "code",
   "execution_count": 19,
   "id": "3e78f0e9",
   "metadata": {},
   "outputs": [
    {
     "name": "stdout",
     "output_type": "stream",
     "text": [
      "(11,)\n"
     ]
    }
   ],
   "source": [
    "n_samples = 100000\n",
    "initial_position = np.random.rand(11)/100 # 最初の10つは係数、残りは分散, qの初期値\n",
    "print(initial_position.shape)"
   ]
  },
  {
   "cell_type": "code",
   "execution_count": 20,
   "id": "4d785553",
   "metadata": {},
   "outputs": [],
   "source": [
    "#Q = XN"
   ]
  },
  {
   "cell_type": "code",
   "execution_count": 21,
   "id": "141ed5a5",
   "metadata": {},
   "outputs": [],
   "source": [
    "samples,acceptance = hamiltonian_monte_carlo(n_samples, dVdq, initial_position, path_len=100, step_size=0.00001)"
   ]
  },
  {
   "cell_type": "code",
   "execution_count": 22,
   "id": "43a71560",
   "metadata": {},
   "outputs": [
    {
     "data": {
      "text/plain": [
       "1.0"
      ]
     },
     "execution_count": 22,
     "metadata": {},
     "output_type": "execute_result"
    }
   ],
   "source": [
    "acceptance"
   ]
  },
  {
   "cell_type": "code",
   "execution_count": 23,
   "id": "fc6ab2e5",
   "metadata": {},
   "outputs": [
    {
     "data": {
      "text/plain": [
       "<AxesSubplot:>"
      ]
     },
     "execution_count": 23,
     "metadata": {},
     "output_type": "execute_result"
    },
    {
     "data": {
      "image/png": "[encoded data removed]",
      "text/plain": [
       "<Figure size 1440x648 with 15 Axes>"
      ]
     },
     "metadata": {
      "needs_background": "light"
     },
     "output_type": "display_data"
    }
   ],
   "source": [
    "df = pd.DataFrame(samples)\n",
    "\n",
    "fig, axes = plt.subplots(nrows=3, ncols=5, figsize=(20, 9))\n",
    "df.iloc[:,0].plot(ax=axes[0, 0], legend=False)\n",
    "df.iloc[:,1].plot(ax=axes[0, 1], legend=False)\n",
    "df.iloc[:,2].plot(ax=axes[0, 2], legend=False)\n",
    "df.iloc[:,3].plot(ax=axes[0, 3], legend=False)\n",
    "df.iloc[:,4].plot(ax=axes[0, 4], legend=False)\n",
    "\n",
    "df.iloc[:,5].plot(ax=axes[1, 0], legend=False)\n",
    "df.iloc[:,6].plot(ax=axes[1, 1], legend=False)\n",
    "df.iloc[:,7].plot(ax=axes[1, 2], legend=False)\n",
    "df.iloc[:,8].plot(ax=axes[1, 3], legend=False)\n",
    "df.iloc[:,9].plot(ax=axes[1, 4], legend=False)\n",
    "\n",
    "df.iloc[:,10].plot(ax=axes[2, 0], legend=False)"
   ]
  },
  {
   "cell_type": "markdown",
   "id": "df9eabb4",
   "metadata": {},
   "source": [
    "# OLSとのパラメーター比較"
   ]
  },
  {
   "cell_type": "code",
   "execution_count": 24,
   "id": "277340b8",
   "metadata": {},
   "outputs": [
    {
     "data": {
      "text/html": [
       "<div>\n",
       "<style scoped>\n",
       "    .dataframe tbody tr th:only-of-type {\n",
       "        vertical-align: middle;\n",
       "    }\n",
       "\n",
       "    .dataframe tbody tr th {\n",
       "        vertical-align: top;\n",
       "    }\n",
       "\n",
       "    .dataframe thead th {\n",
       "        text-align: right;\n",
       "    }\n",
       "</style>\n",
       "<table border=\"1\" class=\"dataframe\">\n",
       "  <thead>\n",
       "    <tr style=\"text-align: right;\">\n",
       "      <th></th>\n",
       "      <th>HMC</th>\n",
       "      <th>OLS</th>\n",
       "    </tr>\n",
       "  </thead>\n",
       "  <tbody>\n",
       "    <tr>\n",
       "      <th>y1</th>\n",
       "      <td>0.070591</td>\n",
       "      <td>0.076765</td>\n",
       "    </tr>\n",
       "    <tr>\n",
       "      <th>p1</th>\n",
       "      <td>-0.085175</td>\n",
       "      <td>-0.092077</td>\n",
       "    </tr>\n",
       "    <tr>\n",
       "      <th>y2</th>\n",
       "      <td>-0.013523</td>\n",
       "      <td>-0.012569</td>\n",
       "    </tr>\n",
       "    <tr>\n",
       "      <th>p2</th>\n",
       "      <td>-0.019687</td>\n",
       "      <td>-0.022520</td>\n",
       "    </tr>\n",
       "    <tr>\n",
       "      <th>c</th>\n",
       "      <td>0.106526</td>\n",
       "      <td>0.104947</td>\n",
       "    </tr>\n",
       "    <tr>\n",
       "      <th>y1</th>\n",
       "      <td>-0.058518</td>\n",
       "      <td>-0.062506</td>\n",
       "    </tr>\n",
       "    <tr>\n",
       "      <th>p1</th>\n",
       "      <td>-0.059572</td>\n",
       "      <td>-0.056914</td>\n",
       "    </tr>\n",
       "    <tr>\n",
       "      <th>y2</th>\n",
       "      <td>-0.022136</td>\n",
       "      <td>-0.016821</td>\n",
       "    </tr>\n",
       "    <tr>\n",
       "      <th>p2</th>\n",
       "      <td>-0.014123</td>\n",
       "      <td>-0.008094</td>\n",
       "    </tr>\n",
       "    <tr>\n",
       "      <th>c</th>\n",
       "      <td>-0.046766</td>\n",
       "      <td>-0.051084</td>\n",
       "    </tr>\n",
       "  </tbody>\n",
       "</table>\n",
       "</div>"
      ],
      "text/plain": [
       "         HMC       OLS\n",
       "y1  0.070591  0.076765\n",
       "p1 -0.085175 -0.092077\n",
       "y2 -0.013523 -0.012569\n",
       "p2 -0.019687 -0.022520\n",
       "c   0.106526  0.104947\n",
       "y1 -0.058518 -0.062506\n",
       "p1 -0.059572 -0.056914\n",
       "y2 -0.022136 -0.016821\n",
       "p2 -0.014123 -0.008094\n",
       "c  -0.046766 -0.051084"
      ]
     },
     "execution_count": 24,
     "metadata": {},
     "output_type": "execute_result"
    }
   ],
   "source": [
    "aa = df.iloc[-1000:,:-1].mean()\n",
    "\n",
    "X1 = X.loc[:,xlist].values\n",
    "Y1 = Y.loc[:,ylist].values\n",
    "\n",
    "model = sm.OLS(y0, Q)\n",
    "res = model.fit()\n",
    "\n",
    "aa = pd.concat([aa,pd.DataFrame(res.params.reshape(10,1))],axis=1)\n",
    "aa.columns = ['HMC','OLS']\n",
    "aa.index = xlist*2\n",
    "aa\n",
    "#print(res.summary())\n",
    "\n",
    "#(np.linalg.inv(X1.T@X1)@X1.T@Y1).reshape(-1)"
   ]
  },
  {
   "cell_type": "markdown",
   "id": "8fb02cac",
   "metadata": {},
   "source": [
    "# パラメーターの復元"
   ]
  },
  {
   "cell_type": "code",
   "execution_count": 25,
   "id": "0109712e",
   "metadata": {},
   "outputs": [
    {
     "data": {
      "text/html": [
       "<div>\n",
       "<style scoped>\n",
       "    .dataframe tbody tr th:only-of-type {\n",
       "        vertical-align: middle;\n",
       "    }\n",
       "\n",
       "    .dataframe tbody tr th {\n",
       "        vertical-align: top;\n",
       "    }\n",
       "\n",
       "    .dataframe thead th {\n",
       "        text-align: right;\n",
       "    }\n",
       "</style>\n",
       "<table border=\"1\" class=\"dataframe\">\n",
       "  <thead>\n",
       "    <tr style=\"text-align: right;\">\n",
       "      <th></th>\n",
       "      <th>HMC</th>\n",
       "      <th>OLS</th>\n",
       "    </tr>\n",
       "  </thead>\n",
       "  <tbody>\n",
       "    <tr>\n",
       "      <th>y1</th>\n",
       "      <td>-0.069747</td>\n",
       "      <td>-0.052501</td>\n",
       "    </tr>\n",
       "    <tr>\n",
       "      <th>p1</th>\n",
       "      <td>0.028038</td>\n",
       "      <td>0.044954</td>\n",
       "    </tr>\n",
       "    <tr>\n",
       "      <th>y2</th>\n",
       "      <td>-0.106850</td>\n",
       "      <td>-0.110849</td>\n",
       "    </tr>\n",
       "    <tr>\n",
       "      <th>p2</th>\n",
       "      <td>-0.154065</td>\n",
       "      <td>-0.110106</td>\n",
       "    </tr>\n",
       "    <tr>\n",
       "      <th>c</th>\n",
       "      <td>0.011169</td>\n",
       "      <td>0.011003</td>\n",
       "    </tr>\n",
       "    <tr>\n",
       "      <th>y1</th>\n",
       "      <td>0.024246</td>\n",
       "      <td>0.042625</td>\n",
       "    </tr>\n",
       "    <tr>\n",
       "      <th>p1</th>\n",
       "      <td>0.056722</td>\n",
       "      <td>0.111392</td>\n",
       "    </tr>\n",
       "    <tr>\n",
       "      <th>y2</th>\n",
       "      <td>0.026968</td>\n",
       "      <td>-0.001029</td>\n",
       "    </tr>\n",
       "    <tr>\n",
       "      <th>p2</th>\n",
       "      <td>0.005460</td>\n",
       "      <td>-0.091849</td>\n",
       "    </tr>\n",
       "    <tr>\n",
       "      <th>c</th>\n",
       "      <td>0.004903</td>\n",
       "      <td>0.005356</td>\n",
       "    </tr>\n",
       "  </tbody>\n",
       "</table>\n",
       "</div>"
      ],
      "text/plain": [
       "         HMC       OLS\n",
       "y1 -0.069747 -0.052501\n",
       "p1  0.028038  0.044954\n",
       "y2 -0.106850 -0.110849\n",
       "p2 -0.154065 -0.110106\n",
       "c   0.011169  0.011003\n",
       "y1  0.024246  0.042625\n",
       "p1  0.056722  0.111392\n",
       "y2  0.026968 -0.001029\n",
       "p2  0.005460 -0.091849\n",
       "c   0.004903  0.005356"
      ]
     },
     "execution_count": 25,
     "metadata": {},
     "output_type": "execute_result"
    }
   ],
   "source": [
    "aa = np.linalg.inv(R)@aa\n",
    "aa.index = xlist*2\n",
    "aa"
   ]
  },
  {
   "cell_type": "code",
   "execution_count": 26,
   "id": "6270e23f",
   "metadata": {},
   "outputs": [
    {
     "ename": "SystemExit",
     "evalue": "",
     "output_type": "error",
     "traceback": [
      "An exception has occurred, use %tb to see the full traceback.\n",
      "\u001b[0;31mSystemExit\u001b[0m\n"
     ]
    },
    {
     "name": "stderr",
     "output_type": "stream",
     "text": [
      "/opt/homebrew/Caskroom/miniforge/base/envs/python38/lib/python3.8/site-packages/IPython/core/interactiveshell.py:3445: UserWarning: To exit: use 'exit', 'quit', or Ctrl-D.\n",
      "  warn(\"To exit: use 'exit', 'quit', or Ctrl-D.\", stacklevel=1)\n"
     ]
    }
   ],
   "source": [
    "sys.exit()"
   ]
  },
  {
   "cell_type": "markdown",
   "id": "834c5252",
   "metadata": {},
   "source": [
    "# 復元のチェック"
   ]
  },
  {
   "cell_type": "code",
   "execution_count": null,
   "id": "b9ba0f38",
   "metadata": {},
   "outputs": [],
   "source": [
    "data_name = ['GDPC1','PCECTPI']\n",
    "df1 = pd.DataFrame()\n",
    "for s in data_name:\n",
    "    df1 = pd.concat([df1,fred.get_series(s)],axis=1)\n",
    "df1 = pd.DataFrame(np.log(df1.values),index=list(df1.index))      #対数化\n",
    "df1 = df1.diff().dropna(how='any',axis=0)                        #前期差\n",
    "df1.columns = ['y','p']"
   ]
  },
  {
   "cell_type": "code",
   "execution_count": null,
   "id": "8a81b3ce",
   "metadata": {},
   "outputs": [],
   "source": [
    "model = VAR(df1)\n",
    "model_result = model.fit(maxlags=2, ic='aic')\n",
    "cc0 = model_result.params\n",
    "print(cc0,'\\n')\n",
    "cc0 = pd.concat([cc0.iloc[1:,:],pd.DataFrame(cc0.iloc[0,:]).T],axis=0)\n",
    "#print(cc0,'\\n')\n",
    "cc = (cc0.values).T.reshape(-1).T\n",
    "#print(pd.DataFrame(cc),'\\n')\n",
    "\n",
    "#bb = pd.concat([bb,pd.DataFrame(cc)],axis=1)\n",
    "#bb.columns = ['HMC','VAR']\n",
    "#bb\n",
    "sys.exit()"
   ]
  },
  {
   "cell_type": "code",
   "execution_count": null,
   "id": "3d0b014d",
   "metadata": {},
   "outputs": [],
   "source": [
    "model_result.summary()"
   ]
  },
  {
   "cell_type": "code",
   "execution_count": null,
   "id": "cb7bbbe9",
   "metadata": {},
   "outputs": [],
   "source": [
    "b_ols = pd.DataFrame(np.linalg.inv(XN.T@XN)@(XN.T@y0))\n",
    "b_qr =pd.DataFrame(np.linalg.inv(R)@(np.linalg.inv(Q.T@Q)@(Q.T@y0)))\n",
    "pd.concat([b_ols,b_qr],axis=1)"
   ]
  },
  {
   "cell_type": "code",
   "execution_count": null,
   "id": "0cfffb9c",
   "metadata": {},
   "outputs": [],
   "source": [
    "model = sm.OLS(y0, Q)\n",
    "res = model.fit()\n",
    "pd.DataFrame(res.params)"
   ]
  },
  {
   "cell_type": "code",
   "execution_count": null,
   "id": "6af12837",
   "metadata": {},
   "outputs": [],
   "source": []
  },
  {
   "cell_type": "code",
   "execution_count": null,
   "id": "a81f0707",
   "metadata": {},
   "outputs": [],
   "source": []
  },
  {
   "cell_type": "code",
   "execution_count": null,
   "id": "d92d2d35",
   "metadata": {},
   "outputs": [],
   "source": []
  },
  {
   "cell_type": "markdown",
   "id": "56efbf11",
   "metadata": {},
   "source": [
    "# d次元\n",
    "尤度関数\n",
    "\\begin{eqnarray}\n",
    "F(\\boldsymbol{y},\\boldsymbol{x}|\\boldsymbol{b} , \\sigma^{2} )=\\frac{N}{\\sqrt{ (2\\pi )^{d} \\sigma^{2}}} \\exp \\left( -\\frac{1}{2\\sigma^{2}} (\\boldsymbol{y} -\\boldsymbol{b}\\boldsymbol{x} )^{T} (\\boldsymbol{y} -\\boldsymbol{b}\\boldsymbol{x} ) \\right) \n",
    "\\end{eqnarray}\n",
    "\n",
    "同時事前分布\n",
    "\\begin{eqnarray}\n",
    "p(\\boldsymbol{b},\\sigma^{2}) = P(\\sigma^{2})\\times P(\\boldsymbol{b}|\\sigma^{2})\n",
    "\\end{eqnarray}\n",
    "\n",
    "\\begin{eqnarray}\n",
    "P(\\sigma^{2}) = (\\sigma^{2})^{\\frac{T}{2}-1} \\exp(-\\frac{\\theta}{2}\\sigma^{2})\n",
    "\\end{eqnarray}\n",
    "\n",
    "\\begin{eqnarray}\n",
    "P(\\boldsymbol{b}|\\sigma^{2}) = \\frac{1}{\\sqrt{ (2\\pi )^{K} |\\sigma^{2}\\Sigma0|}} \\exp \\left[ -\\frac{1}{2}(\\boldsymbol{b}-\\boldsymbol{b0})^{T} (\\sigma^{2}\\Sigma0)^{-1}(\\boldsymbol{b}-\\boldsymbol{b0}) \\right]\n",
    "\\end{eqnarray}\n",
    "\n",
    "同時事後分布\n",
    "\n",
    "\n",
    "\n",
    "多変量正規分布の対数尤度\n",
    "\\begin{align} \n",
    " L = -\\frac{1}{2} \\left( d\\ln( 2\\pi ) + \\ln |\\boldsymbol{\\Sigma}| + (\\boldsymbol{y} -\\boldsymbol{B}\\boldsymbol{x} )^{T} \\boldsymbol{\\Sigma}^{-1} (\\boldsymbol{y} -\\boldsymbol{B}\\boldsymbol{x} ) \\right)\\\\\n",
    "\\end{align}\n",
    "ポテンシャルエネルギーは\n",
    "\\begin{align} \n",
    " h(\\theta) = -L\n",
    "\\end{align}\n",
    "ポテンシャルエネルギーの母数による微分\n",
    "\\begin{eqnarray}\n",
    " \\frac{\\partial h}{\\partial \\theta} = \\left(\\frac{\\partial h}{\\partial \\boldsymbol{B}},\\frac{\\partial h}{\\partial \\boldsymbol{\\Sigma}}\\right)\n",
    "\\end{eqnarray}\n",
    "\n",
    "\\begin{eqnarray}\n",
    "\\frac{\\partial h}{\\partial \\boldsymbol{B}} &=&  -\\boldsymbol{x}(\\boldsymbol{y} -\\boldsymbol{B}\\boldsymbol{x} )^{T} \\boldsymbol{\\Sigma}^{-T}\\\\\n",
    "\\frac{\\partial h}{\\partial \\boldsymbol{\\Sigma}} &=&  \\frac{1}{2} \\left[ \\boldsymbol{\\Sigma}^{-T}-  \\boldsymbol{\\Sigma}^{-2}(\\boldsymbol{y} -\\boldsymbol{B}\\boldsymbol{x}) (\\boldsymbol{y} -\\boldsymbol{B}\\boldsymbol{x})^{T}) \\right]\n",
    "\\end{eqnarray}"
   ]
  },
  {
   "cell_type": "markdown",
   "id": "662a8340",
   "metadata": {},
   "source": [
    "\\begin{eqnarray}\n",
    "A^{-1}A=I \n",
    "\\end{eqnarray}\n",
    "\n",
    "\\begin{eqnarray}\n",
    "\\frac{\\partial A^{-1}}{\\partial A}A+A^{-1}\\frac{\\partial A}{\\partial A}=0 \n",
    "\\end{eqnarray}\n",
    "\n",
    "\\begin{align}\n",
    "\\frac{\\partial A^{-1}}{\\partial A} &= -A^{-1}\\frac{\\partial A}{\\partial A}A^{-1} \\nonumber \\\\\n",
    "    &= -A^{-1}A^{-1}\n",
    "\\end{align}\n",
    "\n",
    "\\begin{eqnarray}\n",
    "\\frac{\\partial \\ln |A|}{\\partial A} = (A^{-1})^{T} \n",
    "\\end{eqnarray}"
   ]
  },
  {
   "cell_type": "code",
   "execution_count": null,
   "id": "87db7d18",
   "metadata": {},
   "outputs": [],
   "source": [
    "sig0 = np.array([[5,0],[0,3]])\n",
    "y = np.array([[10],[5]])\n",
    "x = np.array([[0.5],[5],[2]])\n",
    "B0 = np.array([[1,0.5],[0.3,0.01],[0.6,0.8]])\n",
    "def F(x,y):\n",
    "    sig = np.diag([x,y])\n",
    "    return -0.5*(np.log(np.linalg.det(sig))#+(y-B.T@x).T@sig0@(y-B.T@x))"
   ]
  },
  {
   "cell_type": "code",
   "execution_count": null,
   "id": "39eaf1de",
   "metadata": {},
   "outputs": [],
   "source": [
    "a = np.linalg.inv(X.T.values@X.values)@(X.T.values@Y.values)\n",
    "q = np.vstack([a.reshape(10,1),np.array([[0.1],[0.5]])])\n",
    "q.reshape(12,)"
   ]
  },
  {
   "cell_type": "code",
   "execution_count": null,
   "id": "8f3e866d",
   "metadata": {},
   "outputs": [],
   "source": [
    "\n",
    "\n",
    "#q = np.array([4.13476899, 2.86026605, 9.89844   , 1.01637184, 2.83090892,\n",
    "#     0.81318511, 9.01138825, 5.74634942, 7.14933043, 2.13098425,\n",
    "#     4.37816492, 1.99361286])\n",
    "#q.shape# = q.reshape(12,)"
   ]
  },
  {
   "cell_type": "code",
   "execution_count": null,
   "id": "e091cef9",
   "metadata": {},
   "outputs": [],
   "source": [
    "dVdq(q.reshape(12,))#.shape"
   ]
  },
  {
   "cell_type": "code",
   "execution_count": null,
   "id": "1daac46a",
   "metadata": {},
   "outputs": [],
   "source": [
    "np.diag(q[n_coefs:].tolist())"
   ]
  },
  {
   "cell_type": "code",
   "execution_count": null,
   "id": "ad4e8eff",
   "metadata": {},
   "outputs": [],
   "source": [
    "(X0.T@Y0@np.diag([0.01,0.02]))"
   ]
  },
  {
   "cell_type": "code",
   "execution_count": null,
   "id": "07cf8d20",
   "metadata": {},
   "outputs": [],
   "source": [
    "X = np.array([[1,0.5],[2,1.5],[3,2.2]])\n",
    "X"
   ]
  },
  {
   "cell_type": "code",
   "execution_count": null,
   "id": "2d54d277",
   "metadata": {},
   "outputs": [],
   "source": [
    "B = np.array([[0.1,0.2],[0.02,0.01]])\n",
    "B"
   ]
  },
  {
   "cell_type": "code",
   "execution_count": null,
   "id": "43c618ac",
   "metadata": {},
   "outputs": [],
   "source": [
    "np.diag([1]*4)"
   ]
  },
  {
   "cell_type": "code",
   "execution_count": null,
   "id": "775d3433",
   "metadata": {},
   "outputs": [],
   "source": [
    "X@B"
   ]
  },
  {
   "cell_type": "code",
   "execution_count": null,
   "id": "1b10c61b",
   "metadata": {},
   "outputs": [],
   "source": [
    "(X@B).T.reshape(-1)"
   ]
  },
  {
   "cell_type": "code",
   "execution_count": null,
   "id": "c1f6ef68",
   "metadata": {},
   "outputs": [],
   "source": [
    "B.T.reshape(-1)@(np.kron(np.diag([1]*2),X)).T"
   ]
  },
  {
   "cell_type": "code",
   "execution_count": null,
   "id": "7296ba1d",
   "metadata": {},
   "outputs": [],
   "source": []
  }
 ],
 "metadata": {
  "kernelspec": {
   "display_name": "Python 3",
   "language": "python",
   "name": "python3"
  },
  "language_info": {
   "codemirror_mode": {
    "name": "ipython",
    "version": 3
   },
   "file_extension": ".py",
   "mimetype": "text/x-python",
   "name": "python",
   "nbconvert_exporter": "python",
   "pygments_lexer": "ipython3",
   "version": "3.8.8"
  }
 },
 "nbformat": 4,
 "nbformat_minor": 5
}
